{
 "cells": [
  {
   "cell_type": "markdown",
   "id": "6784c10c-96d6-4477-9ad9-b4068efe2c2f",
   "metadata": {},
   "source": [
    "Movie Reccommdaations Task"
   ]
  },
  {
   "cell_type": "markdown",
   "id": "456104a6-1772-44b4-9ad7-1d52608cd344",
   "metadata": {},
   "source": [
    "Overview\n",
    "This dataset captures the movie rating and tagging activity of 610 users on the MovieLens platform. MovieLens is a popular movie recommendation service where users rate movies and apply tags (descriptive labels) to them. The dataset spans several years, with data collected between March 29, 1996, and September 24, 2018.\n",
    "\n",
    "links.csv:\n",
    "\n",
    "Purpose: This file connects the movies in the dataset to their corresponding entries in external movie databases like IMDb (Internet Movie Database) and TMDb (The Movie Database).\n",
    "Typical Columns:\n",
    "movieId: The unique identifier for each movie in this dataset.\n",
    "imdbId: The IMDb ID that corresponds to the same movie.\n",
    "tmdbId: The TMDb ID that corresponds to the same movie.\n",
    "\n",
    "\n",
    "movies.csv:\n",
    "\n",
    "Purpose: This file provides information about the movies, including their titles and genres.\n",
    "Typical Columns:\n",
    "movieId: The unique identifier for each movie.\n",
    "title: The title of the movie (including the year of release).\n",
    "genres: A pipe-separated list of genres that apply to the movie (e.g., \"Action|Adventure|Comedy\").\n",
    "\n",
    "\n",
    "ratings.csv:\n",
    "\n",
    "Purpose: This file contains the ratings that users have given to movies.\n",
    "Typical Columns:\n",
    "userId: The unique identifier for each user.\n",
    "movieId: The ID of the movie that was rated.\n",
    "rating: The rating given by the user, typically on a 5-star scale.\n",
    "timestamp: The time when the rating was made, typically represented as a Unix timestamp.\n",
    "\n",
    "\n",
    "tags.csv:\n",
    "\n",
    "Purpose: This file includes user-generated tags, which are descriptive labels applied to movies."
   ]
  },
  {
   "cell_type": "code",
   "execution_count": 2,
   "id": "d606b99e-d70b-4b9a-bfe3-ce955f1efbc5",
   "metadata": {},
   "outputs": [],
   "source": [
    "import pandas as pd\n",
    "import numpy as np\n",
    "import matplotlib.pyplot as plt\n",
    "from matplotlib import colormaps as cm\n",
    "import seaborn as sns\n",
    "from sklearn.metrics.pairwise import cosine_similarity\n",
    "from sklearn.metrics import pairwise_distances"
   ]
  },
  {
   "cell_type": "markdown",
   "id": "fd33ab98-35fe-4b83-b0fc-842428f4ac05",
   "metadata": {},
   "source": [
    "Loading Data Sets"
   ]
  },
  {
   "cell_type": "code",
   "execution_count": 6,
   "id": "9ace27af-8c5c-455a-85a7-af27b3648933",
   "metadata": {},
   "outputs": [
    {
     "name": "stdout",
     "output_type": "stream",
     "text": [
      "<class 'pandas.core.frame.DataFrame'>\n",
      "RangeIndex: 9742 entries, 0 to 9741\n",
      "Data columns (total 3 columns):\n",
      " #   Column   Non-Null Count  Dtype \n",
      "---  ------   --------------  ----- \n",
      " 0   movieId  9742 non-null   int64 \n",
      " 1   title    9742 non-null   object\n",
      " 2   genres   9742 non-null   object\n",
      "dtypes: int64(1), object(2)\n",
      "memory usage: 228.5+ KB\n"
     ]
    }
   ],
   "source": [
    "\n",
    "\n",
    "# Correct file path (Use either raw string or escape backslashes)\n",
    "movie = pd.read_csv(r\"C:\\Users\\jyome\\OneDrive\\Desktop\\Files\\Gen AI Internship\\movie_data\\movies.csv\")\n",
    "\n",
    "# Display information about the DataFrame\n",
    "movie.info()\n"
   ]
  },
  {
   "cell_type": "code",
   "execution_count": null,
   "id": "09aa3078-8c4b-448e-8dbe-85743012f5c0",
   "metadata": {},
   "outputs": [],
   "source": []
  },
  {
   "cell_type": "code",
   "execution_count": 9,
   "id": "bc1a6c04-4074-4d5d-af72-10925febb379",
   "metadata": {},
   "outputs": [
    {
     "name": "stdout",
     "output_type": "stream",
     "text": [
      "<class 'pandas.core.frame.DataFrame'>\n",
      "RangeIndex: 9742 entries, 0 to 9741\n",
      "Data columns (total 3 columns):\n",
      " #   Column   Non-Null Count  Dtype  \n",
      "---  ------   --------------  -----  \n",
      " 0   movieId  9742 non-null   int64  \n",
      " 1   imdbId   9742 non-null   int64  \n",
      " 2   tmdbId   9734 non-null   float64\n",
      "dtypes: float64(1), int64(2)\n",
      "memory usage: 228.5 KB\n"
     ]
    }
   ],
   "source": [
    "links = pd.read_csv(r\"C:\\Users\\jyome\\OneDrive\\Desktop\\Files\\Gen AI Internship\\movie_data\\links.csv\")\n",
    "links.info()"
   ]
  },
  {
   "cell_type": "code",
   "execution_count": 10,
   "id": "5142180c-1225-4a03-9829-ec7e15c574a3",
   "metadata": {},
   "outputs": [
    {
     "name": "stdout",
     "output_type": "stream",
     "text": [
      "<class 'pandas.core.frame.DataFrame'>\n",
      "RangeIndex: 100836 entries, 0 to 100835\n",
      "Data columns (total 4 columns):\n",
      " #   Column     Non-Null Count   Dtype  \n",
      "---  ------     --------------   -----  \n",
      " 0   userId     100836 non-null  int64  \n",
      " 1   movieId    100836 non-null  int64  \n",
      " 2   rating     100836 non-null  float64\n",
      " 3   timestamp  100836 non-null  int64  \n",
      "dtypes: float64(1), int64(3)\n",
      "memory usage: 3.1 MB\n"
     ]
    }
   ],
   "source": [
    "ratings = pd.read_csv(r\"C:\\Users\\jyome\\OneDrive\\Desktop\\Files\\Gen AI Internship\\movie_data\\ratings.csv\")\n",
    "ratings.info()"
   ]
  },
  {
   "cell_type": "code",
   "execution_count": 11,
   "id": "245ffa84-56f9-42e8-9d28-1ddc984e741e",
   "metadata": {},
   "outputs": [
    {
     "name": "stdout",
     "output_type": "stream",
     "text": [
      "<class 'pandas.core.frame.DataFrame'>\n",
      "RangeIndex: 3683 entries, 0 to 3682\n",
      "Data columns (total 4 columns):\n",
      " #   Column     Non-Null Count  Dtype \n",
      "---  ------     --------------  ----- \n",
      " 0   userId     3683 non-null   int64 \n",
      " 1   movieId    3683 non-null   int64 \n",
      " 2   tag        3683 non-null   object\n",
      " 3   timestamp  3683 non-null   int64 \n",
      "dtypes: int64(3), object(1)\n",
      "memory usage: 115.2+ KB\n"
     ]
    }
   ],
   "source": [
    "tag = pd.read_csv(r\"C:\\Users\\jyome\\OneDrive\\Desktop\\Files\\Gen AI Internship\\movie_data\\tags.csv\")\n",
    "tag.info()"
   ]
  },
  {
   "cell_type": "markdown",
   "id": "662b976c-06fd-4197-a0bd-33ae0ea46aad",
   "metadata": {},
   "source": [
    "3 How many unique \"userId\" are available in \"ratings.csv\"?\n",
    "*"
   ]
  },
  {
   "cell_type": "code",
   "execution_count": 12,
   "id": "964af3ee-3a86-485f-9192-06a17fae25e9",
   "metadata": {},
   "outputs": [
    {
     "name": "stdout",
     "output_type": "stream",
     "text": [
      "Number of unique userId: 610\n"
     ]
    }
   ],
   "source": [
    "\n",
    "unique_user_ids = ratings['userId'].nunique()\n",
    "\n",
    "print(f\"Number of unique userId: {unique_user_ids}\")\n"
   ]
  },
  {
   "cell_type": "markdown",
   "id": "081a4c4d-4bdd-41ce-8159-eea6c30ec7b9",
   "metadata": {},
   "source": [
    "4 Which movie has recieved maximum number of user ratings?\n"
   ]
  },
  {
   "cell_type": "code",
   "execution_count": 14,
   "id": "bb1f552b-7d85-45e5-97d3-5dff9c8500db",
   "metadata": {},
   "outputs": [
    {
     "name": "stdout",
     "output_type": "stream",
     "text": [
      "title           Forrest Gump (1994)\n",
      "rating_count                    329\n",
      "Name: 314, dtype: object\n"
     ]
    }
   ],
   "source": [
    "\n",
    "\n",
    "\n",
    "\n",
    "# Group by movieId and count the number of ratings for each movie\n",
    "rating_counts = ratings.groupby('movieId').size().reset_index(name='rating_count')\n",
    "\n",
    "# Merge with movies to get movie titles\n",
    "movie_rating_counts = pd.merge(rating_counts, movie, on='movieId')\n",
    "\n",
    "# Find the movie with the maximum number of ratings\n",
    "max_rated_movie = movie_rating_counts.loc[movie_rating_counts['rating_count'].idxmax()]\n",
    "\n",
    "print(max_rated_movie[['title', 'rating_count']])\n"
   ]
  },
  {
   "cell_type": "code",
   "execution_count": 15,
   "id": "d6d4d8f9-bbd8-464f-8e09-8036b7148b27",
   "metadata": {},
   "outputs": [
    {
     "data": {
      "text/html": [
       "<div>\n",
       "<style scoped>\n",
       "    .dataframe tbody tr th:only-of-type {\n",
       "        vertical-align: middle;\n",
       "    }\n",
       "\n",
       "    .dataframe tbody tr th {\n",
       "        vertical-align: top;\n",
       "    }\n",
       "\n",
       "    .dataframe thead th {\n",
       "        text-align: right;\n",
       "    }\n",
       "</style>\n",
       "<table border=\"1\" class=\"dataframe\">\n",
       "  <thead>\n",
       "    <tr style=\"text-align: right;\">\n",
       "      <th></th>\n",
       "      <th>movieId</th>\n",
       "      <th>title</th>\n",
       "      <th>genres</th>\n",
       "    </tr>\n",
       "  </thead>\n",
       "  <tbody>\n",
       "    <tr>\n",
       "      <th>0</th>\n",
       "      <td>1</td>\n",
       "      <td>Toy Story (1995)</td>\n",
       "      <td>Adventure|Animation|Children|Comedy|Fantasy</td>\n",
       "    </tr>\n",
       "    <tr>\n",
       "      <th>1</th>\n",
       "      <td>2</td>\n",
       "      <td>Jumanji (1995)</td>\n",
       "      <td>Adventure|Children|Fantasy</td>\n",
       "    </tr>\n",
       "    <tr>\n",
       "      <th>2</th>\n",
       "      <td>3</td>\n",
       "      <td>Grumpier Old Men (1995)</td>\n",
       "      <td>Comedy|Romance</td>\n",
       "    </tr>\n",
       "    <tr>\n",
       "      <th>3</th>\n",
       "      <td>4</td>\n",
       "      <td>Waiting to Exhale (1995)</td>\n",
       "      <td>Comedy|Drama|Romance</td>\n",
       "    </tr>\n",
       "    <tr>\n",
       "      <th>4</th>\n",
       "      <td>5</td>\n",
       "      <td>Father of the Bride Part II (1995)</td>\n",
       "      <td>Comedy</td>\n",
       "    </tr>\n",
       "  </tbody>\n",
       "</table>\n",
       "</div>"
      ],
      "text/plain": [
       "   movieId                               title  \\\n",
       "0        1                    Toy Story (1995)   \n",
       "1        2                      Jumanji (1995)   \n",
       "2        3             Grumpier Old Men (1995)   \n",
       "3        4            Waiting to Exhale (1995)   \n",
       "4        5  Father of the Bride Part II (1995)   \n",
       "\n",
       "                                        genres  \n",
       "0  Adventure|Animation|Children|Comedy|Fantasy  \n",
       "1                   Adventure|Children|Fantasy  \n",
       "2                               Comedy|Romance  \n",
       "3                         Comedy|Drama|Romance  \n",
       "4                                       Comedy  "
      ]
     },
     "execution_count": 15,
     "metadata": {},
     "output_type": "execute_result"
    }
   ],
   "source": [
    "movie.head()"
   ]
  },
  {
   "cell_type": "markdown",
   "id": "8237b4cb-2a4f-487d-a0bf-f1a5977498fc",
   "metadata": {},
   "source": [
    "Select all the correct tags submitted by users to \"Matrix, The (1999)\" movie?"
   ]
  },
  {
   "cell_type": "code",
   "execution_count": 16,
   "id": "baf1c9e3-fbf8-44a0-858f-d923e533ba0f",
   "metadata": {},
   "outputs": [
    {
     "name": "stdout",
     "output_type": "stream",
     "text": [
      "      movieId               title                  genres\n",
      "1939     2571  Matrix, The (1999)  Action|Sci-Fi|Thriller\n"
     ]
    }
   ],
   "source": [
    "\n",
    "\n",
    "# Find the row corresponding to \"Matrix, The (1999)\"\n",
    "matrix_movie = movie[movie['title'].str.contains(\"Matrix, The \\(1999\\)\")]\n",
    "\n",
    "# Display the details of the movie\n",
    "print(matrix_movie)\n"
   ]
  },
  {
   "cell_type": "markdown",
   "id": "41a67fdc-52b7-41ff-aad6-02563723236d",
   "metadata": {},
   "source": [
    " 5 .What is the average user rating for movie named \"Terminator 2: Judgment Day (1991)\"?"
   ]
  },
  {
   "cell_type": "code",
   "execution_count": 17,
   "id": "613dbd0e-a838-4ba4-9b9f-a799bac12eb8",
   "metadata": {},
   "outputs": [
    {
     "name": "stdout",
     "output_type": "stream",
     "text": [
      "The average user rating for 'Terminator 2: Judgment Day (1991)' is 3.97\n"
     ]
    }
   ],
   "source": [
    "import pandas as pd\n",
    "\n",
    "\n",
    "# Find the movieId for \"Terminator 2: Judgment Day (1991)\"\n",
    "terminator_movie_id = movie[movie['title'] == \"Terminator 2: Judgment Day (1991)\"]['movieId'].values[0]\n",
    "\n",
    "# Filter the ratings for this movie\n",
    "terminator_ratings = ratings[ratings['movieId'] == terminator_movie_id]\n",
    "\n",
    "# Calculate the average rating\n",
    "average_rating = terminator_ratings['rating'].mean()\n",
    "\n",
    "# Display the average rating\n",
    "print(f\"The average user rating for 'Terminator 2: Judgment Day (1991)' is {average_rating:.2f}\")\n"
   ]
  },
  {
   "cell_type": "markdown",
   "id": "b57820db-0e95-47d0-91ab-e9230e8fa69b",
   "metadata": {},
   "source": [
    "How does the data distribution of user ratings for \"Fight Club (1999)\" movie looks like?\n"
   ]
  },
  {
   "cell_type": "code",
   "execution_count": 19,
   "id": "7360de81-d0f2-4214-93cb-c0a672c24d61",
   "metadata": {},
   "outputs": [
    {
     "data": {
      "image/png": "[encoded data removed]",
      "text/plain": [
       "<Figure size 640x480 with 1 Axes>"
      ]
     },
     "metadata": {},
     "output_type": "display_data"
    }
   ],
   "source": [
    "\n",
    "import matplotlib.pyplot as plt\n",
    "\n",
    "\n",
    "# Find the movieId for \"Fight Club (1999)\"\n",
    "fight_club_movie_id = movie[movie['title'] == \"Fight Club (1999)\"]['movieId'].values[0]\n",
    "\n",
    "# Filter the ratings for this movie\n",
    "fight_club_ratings = ratings[ratings ['movieId'] == fight_club_movie_id]\n",
    "\n",
    "# Plot the histogram of the ratings\n",
    "plt.hist(fight_club_ratings['rating'], bins=10, edgecolor='black')\n",
    "plt.title('Distribution of User Ratings for \"Fight Club (1999)\"')\n",
    "plt.xlabel('Rating')\n",
    "plt.ylabel('Frequency')\n",
    "plt.show()\n"
   ]
  },
  {
   "cell_type": "markdown",
   "id": "66776e3a-83a3-472a-9e54-caeb58649b4a",
   "metadata": {},
   "source": [
    "🟢 IMPORTANT NOTE 1 🟢\n",
    "Now that you have a good enough understanding of the given data, apply the \"Mandatory Operation\" given below before solving any of the following questions.\n",
    "\n",
    "Mandatory Operations:\n",
    "1. Group the user ratings based on movieId and apply aggregation operations like count and mean on ratings. \n",
    "2. Apply inner join on dataframe created from movies.csv and the grouped df from step 1.\n",
    "3. Filter only those movies which have more than 50 user ratings (i.e. > 50).\n",
    "\n",
    "Above steps will make sure that your data contains only those movies which has recieved more than 50 user ratings."
   ]
  },
  {
   "cell_type": "code",
   "execution_count": 46,
   "id": "545fe445-dc9e-4964-8a3e-becfd275f50e",
   "metadata": {},
   "outputs": [
    {
     "data": {
      "text/html": [
       "<div>\n",
       "<style scoped>\n",
       "    .dataframe tbody tr th:only-of-type {\n",
       "        vertical-align: middle;\n",
       "    }\n",
       "\n",
       "    .dataframe tbody tr th {\n",
       "        vertical-align: top;\n",
       "    }\n",
       "\n",
       "    .dataframe thead th {\n",
       "        text-align: right;\n",
       "    }\n",
       "</style>\n",
       "<table border=\"1\" class=\"dataframe\">\n",
       "  <thead>\n",
       "    <tr style=\"text-align: right;\">\n",
       "      <th></th>\n",
       "      <th>movieId</th>\n",
       "      <th>title</th>\n",
       "      <th>genres</th>\n",
       "      <th>rating_count</th>\n",
       "      <th>rating_mean</th>\n",
       "    </tr>\n",
       "  </thead>\n",
       "  <tbody>\n",
       "    <tr>\n",
       "      <th>0</th>\n",
       "      <td>1</td>\n",
       "      <td>Toy Story (1995)</td>\n",
       "      <td>Adventure|Animation|Children|Comedy|Fantasy</td>\n",
       "      <td>215</td>\n",
       "      <td>3.920930</td>\n",
       "    </tr>\n",
       "    <tr>\n",
       "      <th>1</th>\n",
       "      <td>2</td>\n",
       "      <td>Jumanji (1995)</td>\n",
       "      <td>Adventure|Children|Fantasy</td>\n",
       "      <td>110</td>\n",
       "      <td>3.431818</td>\n",
       "    </tr>\n",
       "    <tr>\n",
       "      <th>2</th>\n",
       "      <td>3</td>\n",
       "      <td>Grumpier Old Men (1995)</td>\n",
       "      <td>Comedy|Romance</td>\n",
       "      <td>52</td>\n",
       "      <td>3.259615</td>\n",
       "    </tr>\n",
       "    <tr>\n",
       "      <th>5</th>\n",
       "      <td>6</td>\n",
       "      <td>Heat (1995)</td>\n",
       "      <td>Action|Crime|Thriller</td>\n",
       "      <td>102</td>\n",
       "      <td>3.946078</td>\n",
       "    </tr>\n",
       "    <tr>\n",
       "      <th>6</th>\n",
       "      <td>7</td>\n",
       "      <td>Sabrina (1995)</td>\n",
       "      <td>Comedy|Romance</td>\n",
       "      <td>54</td>\n",
       "      <td>3.185185</td>\n",
       "    </tr>\n",
       "  </tbody>\n",
       "</table>\n",
       "</div>"
      ],
      "text/plain": [
       "   movieId                    title  \\\n",
       "0        1         Toy Story (1995)   \n",
       "1        2           Jumanji (1995)   \n",
       "2        3  Grumpier Old Men (1995)   \n",
       "5        6              Heat (1995)   \n",
       "6        7           Sabrina (1995)   \n",
       "\n",
       "                                        genres  rating_count  rating_mean  \n",
       "0  Adventure|Animation|Children|Comedy|Fantasy           215     3.920930  \n",
       "1                   Adventure|Children|Fantasy           110     3.431818  \n",
       "2                               Comedy|Romance            52     3.259615  \n",
       "5                        Action|Crime|Thriller           102     3.946078  \n",
       "6                               Comedy|Romance            54     3.185185  "
      ]
     },
     "execution_count": 46,
     "metadata": {},
     "output_type": "execute_result"
    }
   ],
   "source": [
    " #Step 1: Group user ratings by movieId and apply aggregation (count and mean on ratings)\n",
    "grouped_ratings = ratings.groupby('movieId').agg(\n",
    "    rating_count=('rating', 'count'),\n",
    "    rating_mean=('rating', 'mean')\n",
    ").reset_index()\n",
    "\n",
    "# Step 2: Apply an inner join on the movies dataframe and the grouped ratings dataframe\n",
    "merged_df = pd.merge(movie, grouped_ratings, on='movieId', how='inner')\n",
    "\n",
    "# Step 3: Filter only those movies which have more than 50 user ratings\n",
    "filtered_df = merged_df[merged_df['rating_count'] > 50]\n",
    "\n",
    "# Display the first few rows of the filtered dataframe to verify\n",
    "filtered_df.head(5)"
   ]
  },
  {
   "cell_type": "markdown",
   "id": "7eb43b2a-7a2c-40cf-bae7-2c90f9065ea7",
   "metadata": {},
   "source": [
    "Which movie is the most popular based on  average user ratings?\n",
    "\n",
    "*\n",
    "Answer this question only after applying the above mentioned \"Mandatory Operration\"."
   ]
  },
  {
   "cell_type": "code",
   "execution_count": 23,
   "id": "437179e9-9668-4d64-bf57-7ed86c295501",
   "metadata": {},
   "outputs": [
    {
     "data": {
      "text/plain": [
       "'Shawshank Redemption, The (1994)'"
      ]
     },
     "execution_count": 23,
     "metadata": {},
     "output_type": "execute_result"
    }
   ],
   "source": [
    "options = [\"Godfather, The (1972)\", \"Shawshank Redemption, The (1994)\", \n",
    "           \"Jumanji (1995)\", \"Wolf of Wall Street, The (2013)\"]\n",
    "filtered_options_df = filtered_df[filtered_df['title'].isin(options)]\n",
    "\n",
    "#  Find the movie with the highest average rating\n",
    "most_popular_movie = filtered_options_df.loc[filtered_options_df['rating_mean'].idxmax()]\n",
    "\n",
    "# Display the most popular movie\n",
    "most_popular_movie['title']"
   ]
  },
  {
   "cell_type": "markdown",
   "id": "52028634-a1e8-4f93-b70d-fe20dd8ed8d9",
   "metadata": {},
   "source": [
    "Select all the correct options which comes under top 5 popular movies based on number of user ratings."
   ]
  },
  {
   "cell_type": "code",
   "execution_count": 28,
   "id": "dbf052f9-6a7d-4ba6-85ca-37b8ee9da870",
   "metadata": {},
   "outputs": [
    {
     "name": "stdout",
     "output_type": "stream",
     "text": [
      "                                 title  movieId  rating_count  rating_mean\n",
      "314                Forrest Gump (1994)      356           329     4.164134\n",
      "277   Shawshank Redemption, The (1994)      318           317     4.429022\n",
      "257                Pulp Fiction (1994)      296           307     4.197068\n",
      "510   Silence of the Lambs, The (1991)      593           279     4.161290\n",
      "1938                Matrix, The (1999)     2571           278     4.192446\n"
     ]
    }
   ],
   "source": [
    "sorted_df = filtered_df.sort_values(by='rating_count', ascending=False)\n",
    "\n",
    "# Step 2: Select the top 5 movies\n",
    "top_5_movies = sorted_df.head(5)\n",
    "\n",
    "# Display the top 5 popular movies based on number of user ratings\n",
    "print(top_5_movies[['title', 'movieId', 'rating_count', 'rating_mean']])"
   ]
  },
  {
   "cell_type": "code",
   "execution_count": 37,
   "id": "120f99a2-c82b-481e-bad9-ef3ef3fdbd01",
   "metadata": {},
   "outputs": [],
   "source": [
    "\n",
    "\n",
    "# Step 3: Define the list of movie titles to check\n",
    "#movies_to_check = [\n",
    "    #'Pulp Fiction (1994)',\n",
    "    #'Bad Boys (1995)',\n",
    "    #'Silence of the Lambs, The (1991)',\n",
    "    #'Matrix, The (1999)'\n",
    "#]\n",
    "\n",
    "#top_5_titles = top_5_movies.merge(filtered_df[['movieId', 'title']], on='movieId', how='left')['title']\n",
    "\n",
    "# Filter the list of movies to check that are in the top 5\n",
    "#movies_in_top_5 = [movie for movie in movies_to_check if movie in top_5_titles.values]\n",
    "\n",
    "#print(\"Movies in the top 5 based on number of user ratings:\")\n",
    "#print(movies_in_top_5)"
   ]
  },
  {
   "cell_type": "markdown",
   "id": "89b4e99d-0865-419c-b178-296f925fd2fc",
   "metadata": {},
   "source": [
    "Which Sci-Fi movie is \"third most popular\" based on the number of user ratings?"
   ]
  },
  {
   "cell_type": "code",
   "execution_count": 47,
   "id": "108ad795-7a31-4849-a846-7449ad937650",
   "metadata": {},
   "outputs": [
    {
     "ename": "KeyError",
     "evalue": "'genres'",
     "output_type": "error",
     "traceback": [
      "\u001b[1;31m---------------------------------------------------------------------------\u001b[0m",
      "\u001b[1;31mKeyError\u001b[0m                                  Traceback (most recent call last)",
      "File \u001b[1;32m~\\anaconda3\\Lib\\site-packages\\pandas\\core\\indexes\\base.py:3791\u001b[0m, in \u001b[0;36mIndex.get_loc\u001b[1;34m(self, key)\u001b[0m\n\u001b[0;32m   3790\u001b[0m \u001b[38;5;28;01mtry\u001b[39;00m:\n\u001b[1;32m-> 3791\u001b[0m     \u001b[38;5;28;01mreturn\u001b[39;00m \u001b[38;5;28mself\u001b[39m\u001b[38;5;241m.\u001b[39m_engine\u001b[38;5;241m.\u001b[39mget_loc(casted_key)\n\u001b[0;32m   3792\u001b[0m \u001b[38;5;28;01mexcept\u001b[39;00m \u001b[38;5;167;01mKeyError\u001b[39;00m \u001b[38;5;28;01mas\u001b[39;00m err:\n",
      "File \u001b[1;32mindex.pyx:152\u001b[0m, in \u001b[0;36mpandas._libs.index.IndexEngine.get_loc\u001b[1;34m()\u001b[0m\n",
      "File \u001b[1;32mindex.pyx:181\u001b[0m, in \u001b[0;36mpandas._libs.index.IndexEngine.get_loc\u001b[1;34m()\u001b[0m\n",
      "File \u001b[1;32mpandas\\_libs\\hashtable_class_helper.pxi:7080\u001b[0m, in \u001b[0;36mpandas._libs.hashtable.PyObjectHashTable.get_item\u001b[1;34m()\u001b[0m\n",
      "File \u001b[1;32mpandas\\_libs\\hashtable_class_helper.pxi:7088\u001b[0m, in \u001b[0;36mpandas._libs.hashtable.PyObjectHashTable.get_item\u001b[1;34m()\u001b[0m\n",
      "\u001b[1;31mKeyError\u001b[0m: 'genres'",
      "\nThe above exception was the direct cause of the following exception:\n",
      "\u001b[1;31mKeyError\u001b[0m                                  Traceback (most recent call last)",
      "Cell \u001b[1;32mIn[47], line 15\u001b[0m\n\u001b[0;32m     12\u001b[0m top_5_movies_with_titles \u001b[38;5;241m=\u001b[39m top_5_movies\u001b[38;5;241m.\u001b[39mmerge(movie[[\u001b[38;5;124m'\u001b[39m\u001b[38;5;124mmovieId\u001b[39m\u001b[38;5;124m'\u001b[39m, \u001b[38;5;124m'\u001b[39m\u001b[38;5;124mtitle\u001b[39m\u001b[38;5;124m'\u001b[39m, \u001b[38;5;124m'\u001b[39m\u001b[38;5;124mgenres\u001b[39m\u001b[38;5;124m'\u001b[39m]], on\u001b[38;5;241m=\u001b[39m\u001b[38;5;124m'\u001b[39m\u001b[38;5;124mmovieId\u001b[39m\u001b[38;5;124m'\u001b[39m, how\u001b[38;5;241m=\u001b[39m\u001b[38;5;124m'\u001b[39m\u001b[38;5;124mleft\u001b[39m\u001b[38;5;124m'\u001b[39m)\n\u001b[0;32m     14\u001b[0m \u001b[38;5;66;03m# Step 4: Filter for Sci-Fi movies\u001b[39;00m\n\u001b[1;32m---> 15\u001b[0m sci_fi_movies \u001b[38;5;241m=\u001b[39m top_5_movies_with_titles[top_5_movies_with_titles[\u001b[38;5;124m'\u001b[39m\u001b[38;5;124mgenres\u001b[39m\u001b[38;5;124m'\u001b[39m]\u001b[38;5;241m.\u001b[39mstr\u001b[38;5;241m.\u001b[39mcontains(\u001b[38;5;124m'\u001b[39m\u001b[38;5;124mSci-Fi\u001b[39m\u001b[38;5;124m'\u001b[39m, case\u001b[38;5;241m=\u001b[39m\u001b[38;5;28;01mFalse\u001b[39;00m, na\u001b[38;5;241m=\u001b[39m\u001b[38;5;28;01mFalse\u001b[39;00m)]\n\u001b[0;32m     17\u001b[0m \u001b[38;5;66;03m# Step 5: Find the third most popular Sci-Fi movie based on number of user ratings\u001b[39;00m\n\u001b[0;32m     18\u001b[0m sci_fi_sorted \u001b[38;5;241m=\u001b[39m sci_fi_movies\u001b[38;5;241m.\u001b[39msort_values(by\u001b[38;5;241m=\u001b[39m\u001b[38;5;124m'\u001b[39m\u001b[38;5;124mrating_count\u001b[39m\u001b[38;5;124m'\u001b[39m, ascending\u001b[38;5;241m=\u001b[39m\u001b[38;5;28;01mFalse\u001b[39;00m)\n",
      "File \u001b[1;32m~\\anaconda3\\Lib\\site-packages\\pandas\\core\\frame.py:3893\u001b[0m, in \u001b[0;36mDataFrame.__getitem__\u001b[1;34m(self, key)\u001b[0m\n\u001b[0;32m   3891\u001b[0m \u001b[38;5;28;01mif\u001b[39;00m \u001b[38;5;28mself\u001b[39m\u001b[38;5;241m.\u001b[39mcolumns\u001b[38;5;241m.\u001b[39mnlevels \u001b[38;5;241m>\u001b[39m \u001b[38;5;241m1\u001b[39m:\n\u001b[0;32m   3892\u001b[0m     \u001b[38;5;28;01mreturn\u001b[39;00m \u001b[38;5;28mself\u001b[39m\u001b[38;5;241m.\u001b[39m_getitem_multilevel(key)\n\u001b[1;32m-> 3893\u001b[0m indexer \u001b[38;5;241m=\u001b[39m \u001b[38;5;28mself\u001b[39m\u001b[38;5;241m.\u001b[39mcolumns\u001b[38;5;241m.\u001b[39mget_loc(key)\n\u001b[0;32m   3894\u001b[0m \u001b[38;5;28;01mif\u001b[39;00m is_integer(indexer):\n\u001b[0;32m   3895\u001b[0m     indexer \u001b[38;5;241m=\u001b[39m [indexer]\n",
      "File \u001b[1;32m~\\anaconda3\\Lib\\site-packages\\pandas\\core\\indexes\\base.py:3798\u001b[0m, in \u001b[0;36mIndex.get_loc\u001b[1;34m(self, key)\u001b[0m\n\u001b[0;32m   3793\u001b[0m     \u001b[38;5;28;01mif\u001b[39;00m \u001b[38;5;28misinstance\u001b[39m(casted_key, \u001b[38;5;28mslice\u001b[39m) \u001b[38;5;129;01mor\u001b[39;00m (\n\u001b[0;32m   3794\u001b[0m         \u001b[38;5;28misinstance\u001b[39m(casted_key, abc\u001b[38;5;241m.\u001b[39mIterable)\n\u001b[0;32m   3795\u001b[0m         \u001b[38;5;129;01mand\u001b[39;00m \u001b[38;5;28many\u001b[39m(\u001b[38;5;28misinstance\u001b[39m(x, \u001b[38;5;28mslice\u001b[39m) \u001b[38;5;28;01mfor\u001b[39;00m x \u001b[38;5;129;01min\u001b[39;00m casted_key)\n\u001b[0;32m   3796\u001b[0m     ):\n\u001b[0;32m   3797\u001b[0m         \u001b[38;5;28;01mraise\u001b[39;00m InvalidIndexError(key)\n\u001b[1;32m-> 3798\u001b[0m     \u001b[38;5;28;01mraise\u001b[39;00m \u001b[38;5;167;01mKeyError\u001b[39;00m(key) \u001b[38;5;28;01mfrom\u001b[39;00m \u001b[38;5;21;01merr\u001b[39;00m\n\u001b[0;32m   3799\u001b[0m \u001b[38;5;28;01mexcept\u001b[39;00m \u001b[38;5;167;01mTypeError\u001b[39;00m:\n\u001b[0;32m   3800\u001b[0m     \u001b[38;5;66;03m# If we have a listlike key, _check_indexing_error will raise\u001b[39;00m\n\u001b[0;32m   3801\u001b[0m     \u001b[38;5;66;03m#  InvalidIndexError. Otherwise we fall through and re-raise\u001b[39;00m\n\u001b[0;32m   3802\u001b[0m     \u001b[38;5;66;03m#  the TypeError.\u001b[39;00m\n\u001b[0;32m   3803\u001b[0m     \u001b[38;5;28mself\u001b[39m\u001b[38;5;241m.\u001b[39m_check_indexing_error(key)\n",
      "\u001b[1;31mKeyError\u001b[0m: 'genres'"
     ]
    }
   ],
   "source": [
    "\n",
    "# Step 3: Merge with movie dataframe to get titles and genres\n",
    "top_5_movies_with_titles = top_5_movies.merge(movie[['movieId', 'title', 'genres']], on='movieId', how='left')\n",
    "\n",
    "# Step 4: Filter for Sci-Fi movies\n",
    "sci_fi_movies = top_5_movies_with_titles[top_5_movies_with_titles['genres'].str.contains('Sci-Fi', case=False, na=False)]\n",
    "\n",
    "# Step 5: Find the third most popular Sci-Fi movie based on number of user ratings\n",
    "sci_fi_sorted = sci_fi_movies.sort_values(by='rating_count', ascending=False)\n",
    "\n",
    "# Get the third most popular Sci-Fi movie\n",
    "if len(sci_fi_sorted) > 2:  # Ensure there are at least 3 Sci-Fi movies\n",
    "    third_most_popular_sci_fi = sci_fi_sorted.iloc[2]  # Index 2 for third item\n",
    "    print(\"The third most popular Sci-Fi movie based on the number of user ratings is:\")\n",
    "    print(third_most_popular_sci_fi[['title', 'rating_count', 'rating_mean']])\n",
    "else:\n",
    "    print(\"There are fewer than 3 Sci-Fi movies in the top 5.\")\n"
   ]
  },
  {
   "cell_type": "markdown",
   "id": "f065617c-5a4a-46c3-8f57-2217bf604276",
   "metadata": {},
   "source": [
    "###🟢 IMPORTANT NOTE 2 🟢\n",
    "You already have a subset of data containing only those movies which has recieved more than 50 user ratings.\n",
    "\n",
    "Using \"links.csv\", scrape the IMDB reviews of each movie with more than 50 user ratings. \"README.md\" file contains the required details.\n",
    "\n",
    "If you are unable to write the webscraping script yourself, you can request the same by commenting LinkedIn Post."
   ]
  },
  {
   "cell_type": "code",
   "execution_count": 48,
   "id": "c983c9f8-a6c6-43f4-863f-00d49261cadd",
   "metadata": {},
   "outputs": [
    {
     "data": {
      "text/plain": [
       "(436, 5)"
      ]
     },
     "execution_count": 48,
     "metadata": {},
     "output_type": "execute_result"
    }
   ],
   "source": [
    "filtered_df.shape"
   ]
  },
  {
   "cell_type": "code",
   "execution_count": 53,
   "id": "8045eee5-62f1-41d9-9a1d-4495f761d14a",
   "metadata": {},
   "outputs": [
    {
     "name": "stdout",
     "output_type": "stream",
     "text": [
      "   movieId                    title  \\\n",
      "0        1         Toy Story (1995)   \n",
      "1        2           Jumanji (1995)   \n",
      "2        3  Grumpier Old Men (1995)   \n",
      "3        6              Heat (1995)   \n",
      "4        7           Sabrina (1995)   \n",
      "\n",
      "                                        genres  rating_count  rating_mean  \\\n",
      "0  Adventure|Animation|Children|Comedy|Fantasy           215     3.920930   \n",
      "1                   Adventure|Children|Fantasy           110     3.431818   \n",
      "2                               Comedy|Romance            52     3.259615   \n",
      "3                        Action|Crime|Thriller           102     3.946078   \n",
      "4                               Comedy|Romance            54     3.185185   \n",
      "\n",
      "   imdbId   tmdbId  \n",
      "0  114709    862.0  \n",
      "1  113497   8844.0  \n",
      "2  113228  15602.0  \n",
      "3  113277    949.0  \n",
      "4  114319  11860.0  \n"
     ]
    }
   ],
   "source": [
    "# Merge to get IMDb IDs for movies in filtered_df\n",
    "movies_with_ids = pd.merge(filtered_df, links, on='movieId', how='left')\n",
    "\n",
    "# Display the first few rows to verify\n",
    "print(movies_with_ids.head())"
   ]
  },
  {
   "cell_type": "markdown",
   "id": "9bae2fe6-61f3-4d00-9530-6b53852e3da5",
   "metadata": {},
   "source": [
    "Scrape IMDb Reviews"
   ]
  },
  {
   "cell_type": "code",
   "execution_count": 57,
   "id": "0af45d1f-2129-44f7-9e8a-3d40049b082f",
   "metadata": {},
   "outputs": [
    {
     "name": "stdout",
     "output_type": "stream",
     "text": [
      "   movieId                    title  \\\n",
      "0        1         Toy Story (1995)   \n",
      "1        2           Jumanji (1995)   \n",
      "2        3  Grumpier Old Men (1995)   \n",
      "3        6              Heat (1995)   \n",
      "4        7           Sabrina (1995)   \n",
      "\n",
      "                                        genres  rating_count  rating_mean  \\\n",
      "0  Adventure|Animation|Children|Comedy|Fantasy           215     3.920930   \n",
      "1                   Adventure|Children|Fantasy           110     3.431818   \n",
      "2                               Comedy|Romance            52     3.259615   \n",
      "3                        Action|Crime|Thriller           102     3.946078   \n",
      "4                               Comedy|Romance            54     3.185185   \n",
      "\n",
      "   imdbId  \n",
      "0  114709  \n",
      "1  113497  \n",
      "2  113228  \n",
      "3  113277  \n",
      "4  114319  \n"
     ]
    }
   ],
   "source": [
    "# Merge with the filtered dataframe to get IMDb IDs\n",
    "merged_df_with_links = pd.merge(filtered_df, links[['movieId', 'imdbId']], on='movieId', how='inner')\n",
    "\n",
    "# Display the first few rows\n",
    "print(merged_df_with_links.head())"
   ]
  },
  {
   "cell_type": "code",
   "execution_count": 61,
   "id": "787be813-1715-43fa-a313-f45ef6b30221",
   "metadata": {},
   "outputs": [
    {
     "name": "stdout",
     "output_type": "stream",
     "text": [
      "[]\n"
     ]
    }
   ],
   "source": [
    "import requests\n",
    "from bs4 import BeautifulSoup\n",
    "\n",
    "def scrape_imdb_reviews(imdb_id):\n",
    "    url = f\"https://www.imdb.com/title/tt{imdb_id}/reviews\"\n",
    "    response = requests.get(url)\n",
    "    soup = BeautifulSoup(response.content, 'html.parser')\n",
    "\n",
    "    # Extract reviews (simplified)\n",
    "    reviews = soup.find_all('div', class_='text show-more__control')\n",
    "    review_texts = [review.get_text() for review in reviews]\n",
    "    \n",
    "    return review_texts\n",
    "\n",
    "# Example: Scrape reviews for the first movie\n",
    "imdb_id = merged_df_with_links['imdbId'].iloc[4]\n",
    "reviews = scrape_imdb_reviews(imdb_id)\n",
    "print(reviews)\n"
   ]
  },
  {
   "cell_type": "markdown",
   "id": "3b2a142b-4516-488a-b477-d564f8b9a1fa",
   "metadata": {},
   "source": [
    " Mention the movieId of the \"Sci-Fi\" movie which has the highest IMDB rating."
   ]
  },
  {
   "cell_type": "code",
   "execution_count": 63,
   "id": "0552139a-9aa9-4512-b42e-d33b68b24b77",
   "metadata": {},
   "outputs": [],
   "source": [
    "# Filter for Sci-Fi movies\n",
    "sci_fi_movies = movie[movie['genres'].str.contains('Sci-Fi')]\n"
   ]
  },
  {
   "cell_type": "code",
   "execution_count": 64,
   "id": "aeedf72a-07a6-4b6f-b982-5b63e92260ff",
   "metadata": {},
   "outputs": [],
   "source": [
    "# Merge to get IMDb IDs\n",
    "sci_fi_movies_with_links = pd.merge(sci_fi_movies, links[['movieId', 'imdbId']], on='movieId', how='inner')\n"
   ]
  },
  {
   "cell_type": "code",
   "execution_count": 65,
   "id": "d1763a16-fe04-4c88-a6bc-978b0bda6bd1",
   "metadata": {},
   "outputs": [],
   "source": [
    "# Merge to get IMDb IDs\n",
    "sci_fi_movies_with_links = pd.merge(sci_fi_movies, links[['movieId', 'imdbId']], on='movieId', how='inner')\n"
   ]
  },
  {
   "cell_type": "code",
   "execution_count": 66,
   "id": "9b1e8c22-5138-4c90-9a4b-7b657945b651",
   "metadata": {},
   "outputs": [],
   "source": [
    "# Example: Fetching IMDb ratings using a mock function\n",
    "# This should ideally be replaced by actual IMDb scraping or a pre-existing dataset with IMDb ratings\n",
    "def fetch_imdb_rating(imdb_id):\n",
    "    # Replace with actual fetching logic or use a pre-existing dataset\n",
    "    # This is a mock example\n",
    "    ratings = {\n",
    "        '0114709': 8.3,  # Example IMDb rating for \"Toy Story\"\n",
    "        # Add more mock data\n",
    "    }\n",
    "    return ratings.get(imdb_id, None)\n",
    "\n",
    "# Apply the function to fetch ratings\n",
    "sci_fi_movies_with_links['imdb_rating'] = sci_fi_movies_with_links['imdbId'].apply(lambda x: fetch_imdb_rating(str(x).zfill(7)))\n"
   ]
  },
  {
   "cell_type": "code",
   "execution_count": 67,
   "id": "a5197c6f-186e-4700-9ec1-7254178efc49",
   "metadata": {},
   "outputs": [
    {
     "ename": "ValueError",
     "evalue": "attempt to get argmax of an empty sequence",
     "output_type": "error",
     "traceback": [
      "\u001b[1;31m---------------------------------------------------------------------------\u001b[0m",
      "\u001b[1;31mValueError\u001b[0m                                Traceback (most recent call last)",
      "Cell \u001b[1;32mIn[67], line 5\u001b[0m\n\u001b[0;32m      2\u001b[0m sci_fi_movies_with_links \u001b[38;5;241m=\u001b[39m sci_fi_movies_with_links\u001b[38;5;241m.\u001b[39mdropna(subset\u001b[38;5;241m=\u001b[39m[\u001b[38;5;124m'\u001b[39m\u001b[38;5;124mimdb_rating\u001b[39m\u001b[38;5;124m'\u001b[39m])\n\u001b[0;32m      4\u001b[0m \u001b[38;5;66;03m# Find the Sci-Fi movie with the highest IMDb rating\u001b[39;00m\n\u001b[1;32m----> 5\u001b[0m highest_rated_movie \u001b[38;5;241m=\u001b[39m sci_fi_movies_with_links\u001b[38;5;241m.\u001b[39mloc[sci_fi_movies_with_links[\u001b[38;5;124m'\u001b[39m\u001b[38;5;124mimdb_rating\u001b[39m\u001b[38;5;124m'\u001b[39m]\u001b[38;5;241m.\u001b[39midxmax()]\n\u001b[0;32m      7\u001b[0m \u001b[38;5;66;03m# Output the movieId\u001b[39;00m\n\u001b[0;32m      8\u001b[0m \u001b[38;5;28mprint\u001b[39m(\u001b[38;5;124mf\u001b[39m\u001b[38;5;124m\"\u001b[39m\u001b[38;5;124mThe movieId of the highest rated Sci-Fi movie is: \u001b[39m\u001b[38;5;132;01m{\u001b[39;00mhighest_rated_movie[\u001b[38;5;124m'\u001b[39m\u001b[38;5;124mmovieId\u001b[39m\u001b[38;5;124m'\u001b[39m]\u001b[38;5;132;01m}\u001b[39;00m\u001b[38;5;124m\"\u001b[39m)\n",
      "File \u001b[1;32m~\\anaconda3\\Lib\\site-packages\\pandas\\core\\series.py:2645\u001b[0m, in \u001b[0;36mSeries.idxmax\u001b[1;34m(self, axis, skipna, *args, **kwargs)\u001b[0m\n\u001b[0;32m   2640\u001b[0m \u001b[38;5;28;01mwith\u001b[39;00m warnings\u001b[38;5;241m.\u001b[39mcatch_warnings():\n\u001b[0;32m   2641\u001b[0m     \u001b[38;5;66;03m# TODO(3.0): this catching/filtering can be removed\u001b[39;00m\n\u001b[0;32m   2642\u001b[0m     \u001b[38;5;66;03m# ignore warning produced by argmax since we will issue a different\u001b[39;00m\n\u001b[0;32m   2643\u001b[0m     \u001b[38;5;66;03m#  warning for argmax\u001b[39;00m\n\u001b[0;32m   2644\u001b[0m     warnings\u001b[38;5;241m.\u001b[39msimplefilter(\u001b[38;5;124m\"\u001b[39m\u001b[38;5;124mignore\u001b[39m\u001b[38;5;124m\"\u001b[39m)\n\u001b[1;32m-> 2645\u001b[0m     i \u001b[38;5;241m=\u001b[39m \u001b[38;5;28mself\u001b[39m\u001b[38;5;241m.\u001b[39margmax(axis, skipna, \u001b[38;5;241m*\u001b[39margs, \u001b[38;5;241m*\u001b[39m\u001b[38;5;241m*\u001b[39mkwargs)\n\u001b[0;32m   2647\u001b[0m \u001b[38;5;28;01mif\u001b[39;00m i \u001b[38;5;241m==\u001b[39m \u001b[38;5;241m-\u001b[39m\u001b[38;5;241m1\u001b[39m:\n\u001b[0;32m   2648\u001b[0m     \u001b[38;5;66;03m# GH#43587 give correct NA value for Index.\u001b[39;00m\n\u001b[0;32m   2649\u001b[0m     warnings\u001b[38;5;241m.\u001b[39mwarn(\n\u001b[0;32m   2650\u001b[0m         \u001b[38;5;124mf\u001b[39m\u001b[38;5;124m\"\u001b[39m\u001b[38;5;124mThe behavior of \u001b[39m\u001b[38;5;132;01m{\u001b[39;00m\u001b[38;5;28mtype\u001b[39m(\u001b[38;5;28mself\u001b[39m)\u001b[38;5;241m.\u001b[39m\u001b[38;5;18m__name__\u001b[39m\u001b[38;5;132;01m}\u001b[39;00m\u001b[38;5;124m.idxmax with all-NA \u001b[39m\u001b[38;5;124m\"\u001b[39m\n\u001b[0;32m   2651\u001b[0m         \u001b[38;5;124m\"\u001b[39m\u001b[38;5;124mvalues, or any-NA and skipna=False, is deprecated. In a future \u001b[39m\u001b[38;5;124m\"\u001b[39m\n\u001b[1;32m   (...)\u001b[0m\n\u001b[0;32m   2654\u001b[0m         stacklevel\u001b[38;5;241m=\u001b[39mfind_stack_level(),\n\u001b[0;32m   2655\u001b[0m     )\n",
      "File \u001b[1;32m~\\anaconda3\\Lib\\site-packages\\pandas\\core\\base.py:751\u001b[0m, in \u001b[0;36mIndexOpsMixin.argmax\u001b[1;34m(self, axis, skipna, *args, **kwargs)\u001b[0m\n\u001b[0;32m    749\u001b[0m         \u001b[38;5;28;01mreturn\u001b[39;00m delegate\u001b[38;5;241m.\u001b[39margmax()\n\u001b[0;32m    750\u001b[0m \u001b[38;5;28;01melse\u001b[39;00m:\n\u001b[1;32m--> 751\u001b[0m     result \u001b[38;5;241m=\u001b[39m nanops\u001b[38;5;241m.\u001b[39mnanargmax(delegate, skipna\u001b[38;5;241m=\u001b[39mskipna)\n\u001b[0;32m    752\u001b[0m     \u001b[38;5;28;01mif\u001b[39;00m result \u001b[38;5;241m==\u001b[39m \u001b[38;5;241m-\u001b[39m\u001b[38;5;241m1\u001b[39m:\n\u001b[0;32m    753\u001b[0m         warnings\u001b[38;5;241m.\u001b[39mwarn(\n\u001b[0;32m    754\u001b[0m             \u001b[38;5;124mf\u001b[39m\u001b[38;5;124m\"\u001b[39m\u001b[38;5;124mThe behavior of \u001b[39m\u001b[38;5;132;01m{\u001b[39;00m\u001b[38;5;28mtype\u001b[39m(\u001b[38;5;28mself\u001b[39m)\u001b[38;5;241m.\u001b[39m\u001b[38;5;18m__name__\u001b[39m\u001b[38;5;132;01m}\u001b[39;00m\u001b[38;5;124m.argmax/argmin \u001b[39m\u001b[38;5;124m\"\u001b[39m\n\u001b[0;32m    755\u001b[0m             \u001b[38;5;124m\"\u001b[39m\u001b[38;5;124mwith skipna=False and NAs, or with all-NAs is deprecated. \u001b[39m\u001b[38;5;124m\"\u001b[39m\n\u001b[1;32m   (...)\u001b[0m\n\u001b[0;32m    758\u001b[0m             stacklevel\u001b[38;5;241m=\u001b[39mfind_stack_level(),\n\u001b[0;32m    759\u001b[0m         )\n",
      "File \u001b[1;32m~\\anaconda3\\Lib\\site-packages\\pandas\\core\\nanops.py:1143\u001b[0m, in \u001b[0;36mnanargmax\u001b[1;34m(values, axis, skipna, mask)\u001b[0m\n\u001b[0;32m   1141\u001b[0m values, mask \u001b[38;5;241m=\u001b[39m _get_values(values, \u001b[38;5;28;01mTrue\u001b[39;00m, fill_value_typ\u001b[38;5;241m=\u001b[39m\u001b[38;5;124m\"\u001b[39m\u001b[38;5;124m-inf\u001b[39m\u001b[38;5;124m\"\u001b[39m, mask\u001b[38;5;241m=\u001b[39mmask)\n\u001b[0;32m   1142\u001b[0m \u001b[38;5;66;03m# error: Need type annotation for 'result'\u001b[39;00m\n\u001b[1;32m-> 1143\u001b[0m result \u001b[38;5;241m=\u001b[39m values\u001b[38;5;241m.\u001b[39margmax(axis)  \u001b[38;5;66;03m# type: ignore[var-annotated]\u001b[39;00m\n\u001b[0;32m   1144\u001b[0m result \u001b[38;5;241m=\u001b[39m _maybe_arg_null_out(result, axis, mask, skipna)\n\u001b[0;32m   1145\u001b[0m \u001b[38;5;28;01mreturn\u001b[39;00m result\n",
      "\u001b[1;31mValueError\u001b[0m: attempt to get argmax of an empty sequence"
     ]
    }
   ],
   "source": [
    "# Drop movies with missing ratings\n",
    "sci_fi_movies_with_links = sci_fi_movies_with_links.dropna(subset=['imdb_rating'])\n",
    "\n",
    "# Find the Sci-Fi movie with the highest IMDb rating\n",
    "highest_rated_movie = sci_fi_movies_with_links.loc[sci_fi_movies_with_links['imdb_rating'].idxmax()]\n",
    "\n",
    "# Output the movieId\n",
    "print(f\"The movieId of the highest rated Sci-Fi movie is: {highest_rated_movie['movieId']}\")\n"
   ]
  },
  {
   "cell_type": "code",
   "execution_count": null,
   "id": "1369a151-7d59-47c3-acf4-d10a0c89f145",
   "metadata": {},
   "outputs": [],
   "source": []
  }
 ],
 "metadata": {
  "kernelspec": {
   "display_name": "Python 3 (ipykernel)",
   "language": "python",
   "name": "python3"
  },
  "language_info": {
   "codemirror_mode": {
    "name": "ipython",
    "version": 3
   },
   "file_extension": ".py",
   "mimetype": "text/x-python",
   "name": "python",
   "nbconvert_exporter": "python",
   "pygments_lexer": "ipython3",
   "version": "3.11.7"
  }
 },
 "nbformat": 4,
 "nbformat_minor": 5
}
